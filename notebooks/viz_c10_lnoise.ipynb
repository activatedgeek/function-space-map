{
 "cells": [
  {
   "cell_type": "code",
   "execution_count": null,
   "metadata": {},
   "outputs": [],
   "source": [
    "import seaborn as sns\n",
    "import seaborn.objects as so\n",
    "import matplotlib.pyplot as plt\n",
    "import pandas as pd\n",
    "\n",
    "sns.set(font_scale=2., style='whitegrid')"
   ]
  },
  {
   "cell_type": "code",
   "execution_count": null,
   "metadata": {},
   "outputs": [],
   "source": [
    "import wandb\n",
    "from tqdm.auto import tqdm\n",
    "import pandas as pd\n",
    "\n",
    "def get_summary_metrics(sweep_id, filter_func=None):\n",
    "  api = wandb.Api(timeout=60)\n",
    "  sweep = api.sweep(sweep_id)\n",
    "\n",
    "  data = []\n",
    "  for run in tqdm(sweep.runs, desc='Runs', leave=False):\n",
    "    if callable(filter_func) and not filter_func(run):\n",
    "      continue\n",
    "    \n",
    "    run_summary = dict(run_id=run.id, **run.config, **run.summary)\n",
    "\n",
    "    data.append(run_summary)\n",
    "\n",
    "  return sweep, pd.DataFrame(data)"
   ]
  },
  {
   "cell_type": "code",
   "execution_count": null,
   "metadata": {},
   "outputs": [],
   "source": [
    "# _, results = get_summary_metrics('deeplearn/fspace-inference/mwzafu81')\n",
    "# metrics = results[['run_id', 'seed', 'dataset', 'ctx_dataset', 'label_noise', 'reg_scale', 's/test/acc', 's/test/sel_acc', 's/test/avg_nll', 's/test/ece']]\n",
    "# metrics['s/test/acc'] *= 100\n",
    "# metrics['s/test/ece'] *= 100\n",
    "# # metrics.to_csv('c10_lnoise.csv', index=False)"
   ]
  },
  {
   "cell_type": "code",
   "execution_count": null,
   "metadata": {},
   "outputs": [],
   "source": [
    "metrics = pd.read_csv('results/c10_lnoise.csv')\n",
    "\n",
    "fig, ax = plt.subplots(figsize=(7,5))\n",
    "\n",
    "sns.barplot(data=metrics[metrics.ctx_dataset == 'cifar100'], ax=ax, x='label_noise', y='s/test/acc',\n",
    "             hue='reg_scale', errorbar='sd', hue_order=[0.000001, 0.000000],\n",
    "             palette=sns.color_palette('Set2', 2))\n",
    "\n",
    "ax.set(ylabel='Accuracy', xlabel='Label Noise')\n",
    "# ax.set_xticks([0., .2, .4, .6, .8])\n",
    "# ax.set_yticks([35, 55, 75, 95])\n",
    "\n",
    "def labelmap(v):\n",
    "    return 'L-MAP' if float(v) > 0. else 'PS-MAP'\n",
    "\n",
    "handles, labels = ax.get_legend_handles_labels()\n",
    "labels = [labelmap(l) for l in labels]\n",
    "ax.legend(handles=handles, labels=labels, fontsize=20, title='Method', loc='best')\n",
    "\n",
    "fig.show()\n",
    "# fig.savefig('lmap_c10_lnoise.pdf', bbox_inches='tight')"
   ]
  },
  {
   "cell_type": "code",
   "execution_count": null,
   "metadata": {},
   "outputs": [],
   "source": []
  }
 ],
 "metadata": {
  "kernelspec": {
   "display_name": "fspace",
   "language": "python",
   "name": "python3"
  },
  "language_info": {
   "codemirror_mode": {
    "name": "ipython",
    "version": 3
   },
   "file_extension": ".py",
   "mimetype": "text/x-python",
   "name": "python",
   "nbconvert_exporter": "python",
   "pygments_lexer": "ipython3",
   "version": "3.10.6"
  },
  "orig_nbformat": 4
 },
 "nbformat": 4,
 "nbformat_minor": 2
}
