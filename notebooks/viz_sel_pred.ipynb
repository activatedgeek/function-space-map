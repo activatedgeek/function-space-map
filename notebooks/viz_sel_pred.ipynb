{
 "cells": [
  {
   "cell_type": "code",
   "execution_count": null,
   "metadata": {},
   "outputs": [],
   "source": [
    "import os\n",
    "os.environ['CUDA_VISIBLE_DEVICES'] = '7'"
   ]
  },
  {
   "cell_type": "code",
   "execution_count": null,
   "metadata": {},
   "outputs": [],
   "source": [
    "import pandas as pd\n",
    "import numpy as np\n",
    "import seaborn as sns\n",
    "import matplotlib.pyplot as plt\n",
    "import seaborn.objects as so\n",
    "\n",
    "sns.set(font_scale=1.5, style='whitegrid')"
   ]
  },
  {
   "cell_type": "code",
   "execution_count": null,
   "metadata": {},
   "outputs": [],
   "source": [
    "import wandb\n",
    "from tqdm.auto import tqdm\n",
    "import pandas as pd\n",
    "\n",
    "def get_trace_metrics(sweep_id, filter_func=None):\n",
    "  api = wandb.Api(timeout=60)\n",
    "  sweep = api.sweep(sweep_id)\n",
    "\n",
    "  data = []\n",
    "  for run in tqdm(sweep.runs, desc='Runs', leave=False):\n",
    "    if callable(filter_func) and not filter_func(run):\n",
    "      continue\n",
    "\n",
    "    for i, row in run.history().iterrows():\n",
    "      data.append(dict(run_id=run.id, **run.config, **row))\n",
    "\n",
    "  return sweep, pd.DataFrame(data)"
   ]
  },
  {
   "cell_type": "code",
   "execution_count": null,
   "metadata": {},
   "outputs": [],
   "source": [
    "_, fs_metrics = get_trace_metrics('deeplearn/fspace-inference/t0u3iuuu')\n",
    "\n",
    "_, ps_metrics = get_trace_metrics('deeplearn/fspace-inference/btbjb050')"
   ]
  },
  {
   "cell_type": "code",
   "execution_count": null,
   "metadata": {},
   "outputs": [],
   "source": [
    "# fs_metrics = fs_metrics[['run_id', 'ckpt_path', 'corr_config', 's/test/sel_pred', 's/test/threshold', 's/test/x_id']]\n",
    "fs_metrics['level'] = fs_metrics['corr_config'].apply(lambda row: int(row.split('_')[-1]))\n",
    "fs_metrics['corruption'] = fs_metrics['corr_config'].apply(lambda row: '_'.join(row.split('_')[:-1]))\n",
    "\n",
    "ckpt_to_seed_id = dict(zip(fs_metrics.ckpt_path.unique().tolist(), list(range(fs_metrics.ckpt_path.nunique()))))\n",
    "fs_metrics['seed_id'] = fs_metrics['ckpt_path'].apply(lambda row: ckpt_to_seed_id[row])\n",
    "fs_metrics['mode'] = 'fs'"
   ]
  },
  {
   "cell_type": "code",
   "execution_count": null,
   "metadata": {},
   "outputs": [],
   "source": [
    "# ps_metrics = ps_metrics[['run_id', 'ckpt_path', 'corr_config', 's/test/sel_pred', 's/test/threshold', 's/test/x_id']]\n",
    "ps_metrics['level'] = ps_metrics['corr_config'].apply(lambda row: int(row.split('_')[-1]))\n",
    "ps_metrics['corruption'] = ps_metrics['corr_config'].apply(lambda row: '_'.join(row.split('_')[:-1]))\n",
    "\n",
    "ckpt_to_seed_id = dict(zip(ps_metrics.ckpt_path.unique().tolist(), list(range(ps_metrics.ckpt_path.nunique()))))\n",
    "ps_metrics['seed_id'] = ps_metrics['ckpt_path'].apply(lambda row: ckpt_to_seed_id[row])\n",
    "ps_metrics['mode'] = 'ps'"
   ]
  },
  {
   "cell_type": "code",
   "execution_count": null,
   "metadata": {},
   "outputs": [],
   "source": [
    "metrics = pd.concat([fs_metrics, ps_metrics])\n",
    "metrics = metrics[['run_id', 'corruption', 'level', 'seed_id', 'mode', 's/test/sel_pred', 's/test/threshold']]\n",
    "\n",
    "corr_list = ['speckle_noise', 'shot_noise', 'pixelate', 'gaussian_blur']\n",
    "metrics = metrics[metrics.corruption.isin(corr_list)]\n",
    "metrics"
   ]
  },
  {
   "cell_type": "code",
   "execution_count": null,
   "metadata": {},
   "outputs": [],
   "source": [
    "c_level = 5\n",
    "g = sns.relplot(data=metrics[metrics.level == c_level], kind='line', x='s/test/threshold', y='s/test/sel_pred',\n",
    "                hue='mode', col='corruption', col_wrap=2, errorbar='sd',\n",
    "                height=3.3,\n",
    "                palette=sns.color_palette(\"Set2\", 2))\n",
    "\n",
    "g.set_titles(template='{col_name}')\n",
    "g.set(xlabel=r'Threshold $\\tau$', ylabel='Sel. Accuracy', ylim=(.25,1+1e-3))\n",
    "\n",
    "handles, labels = g.axes[0].get_legend_handles_labels()\n",
    "labels = [r\"FSGC\", r\"PS-MAP\"]\n",
    "for h in handles:\n",
    "    h.set(markersize=10, linewidth=3)\n",
    "g.axes[2].legend(handles=handles, labels=labels, loc='lower right', fontsize=14)\n",
    "# g.axes[0].legend().remove()\n",
    "g.legend.remove()\n",
    "\n",
    "g.fig.show()\n",
    "# g.fig.savefig(f'c10c_sel_pred_level_{c_level}.pdf', bbox_inches='tight')"
   ]
  }
 ],
 "metadata": {
  "kernelspec": {
   "display_name": "fspace",
   "language": "python",
   "name": "python3"
  },
  "language_info": {
   "codemirror_mode": {
    "name": "ipython",
    "version": 3
   },
   "file_extension": ".py",
   "mimetype": "text/x-python",
   "name": "python",
   "nbconvert_exporter": "python",
   "pygments_lexer": "ipython3",
   "version": "3.10.6"
  },
  "orig_nbformat": 4,
  "vscode": {
   "interpreter": {
    "hash": "cf78c7e6f2efe72a4ab2b9c73f062685208ec2c699b65763514c17bcea1347f8"
   }
  }
 },
 "nbformat": 4,
 "nbformat_minor": 2
}
