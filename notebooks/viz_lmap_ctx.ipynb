{
 "cells": [
  {
   "cell_type": "code",
   "execution_count": null,
   "metadata": {},
   "outputs": [],
   "source": [
    "import wandb\n",
    "from tqdm.auto import tqdm\n",
    "import pandas as pd\n",
    "\n",
    "def get_summary_metrics(sweep_id, filter_func=None):\n",
    "  api = wandb.Api(timeout=60)\n",
    "  sweep = api.sweep(sweep_id)\n",
    "\n",
    "  data = []\n",
    "  for run in tqdm(sweep.runs, desc='Runs', leave=False):\n",
    "    if callable(filter_func) and not filter_func(run):\n",
    "      continue\n",
    "    \n",
    "    run_summary = dict(run_id=run.id, **run.config, **run.summary)\n",
    "\n",
    "    data.append(run_summary)\n",
    "\n",
    "  return sweep, pd.DataFrame(data)"
   ]
  },
  {
   "cell_type": "code",
   "execution_count": null,
   "metadata": {},
   "outputs": [],
   "source": [
    "# _, results = get_summary_metrics('deeplearn/fspace-inference/')\n",
    "# metrics = results[['run_id', 'seed', 'dataset', 'context_size', 's/test/acc', 's/test/sel_acc', 's/test/avg_nll', 's/test/ece']]\n",
    "# metrics['s/test/acc'] *= 100\n",
    "# metrics['s/test/ece'] *= 100"
   ]
  },
  {
   "cell_type": "code",
   "execution_count": null,
   "metadata": {},
   "outputs": [],
   "source": [
    "metrics = pd.concat([\n",
    "    pd.read_csv('results/fmnist_lmap_ctx_size.csv'),\n",
    "    pd.read_csv('results/c10_lmap_ctx_size.csv'),\n",
    "], ignore_index=True)\n",
    "\n",
    "# mu = metrics.groupby(['dataset', 'context_size']).mean(numeric_only=True).drop(columns=['seed'])\n",
    "# mu['s/test/acc'] = mu['s/test/acc'].round(1)\n",
    "# mu['s/test/sel_acc'] = mu['s/test/sel_acc'].round(1)\n",
    "# mu['s/test/avg_nll'] = mu['s/test/avg_nll'].round(2)\n",
    "# mu['s/test/ece'] = mu['s/test/ece'].round(1)\n",
    "\n",
    "# sigma = metrics.groupby(['dataset', 'context_size']).std(numeric_only=True).drop(columns=['seed'])\n",
    "# sigma['s/test/acc'] = sigma['s/test/acc'].round(1)\n",
    "# sigma['s/test/sel_acc'] = sigma['s/test/sel_acc'].round(1)\n",
    "# sigma['s/test/avg_nll'] = sigma['s/test/avg_nll'].round(2)\n",
    "# sigma['s/test/ece'] = sigma['s/test/ece'].round(1)\n",
    "\n",
    "# ('$' + mu.astype(str) + ' \\pm ' + sigma.astype(str) + '$')#.reset_index().to_latex('tmp.txt', index=False)"
   ]
  },
  {
   "cell_type": "code",
   "execution_count": null,
   "metadata": {},
   "outputs": [],
   "source": [
    "import seaborn as sns\n",
    "import matplotlib.pyplot as plt\n",
    "\n",
    "sns.set(font_scale=2., style='whitegrid')\n",
    "\n",
    "fig, ax = plt.subplots(figsize=(5,5))\n",
    "\n",
    "sns.lineplot(data=metrics, ax=ax, x='context_size', y='s/test/ece',\n",
    "             hue='dataset', marker='o', markersize=10,\n",
    "             palette=sns.color_palette('Set1', 2))\n",
    "\n",
    "labelmap = { 'fmnist': 'FashionMNIST', 'cifar10': 'CIFAR-10' }\n",
    "\n",
    "handles, labels = ax.get_legend_handles_labels()\n",
    "labels = [labelmap[l] for l in labels]\n",
    "for h in handles:\n",
    "    h.set(linewidth=2)\n",
    "ax.legend(handles=handles, labels=labels, fontsize=20, title='', loc='center right')\n",
    "\n",
    "ax.set(xscale='log', xlabel=r'# Samples ($S$)', ylabel='Calibration Error')\n",
    "\n",
    "fig.show()\n",
    "# fig.savefig('ece_ctx_size.pdf', bbox_inches='tight')"
   ]
  },
  {
   "cell_type": "code",
   "execution_count": null,
   "metadata": {},
   "outputs": [],
   "source": []
  }
 ],
 "metadata": {
  "kernelspec": {
   "display_name": "fspace",
   "language": "python",
   "name": "python3"
  },
  "language_info": {
   "codemirror_mode": {
    "name": "ipython",
    "version": 3
   },
   "file_extension": ".py",
   "mimetype": "text/x-python",
   "name": "python",
   "nbconvert_exporter": "python",
   "pygments_lexer": "ipython3",
   "version": "3.10.6"
  },
  "orig_nbformat": 4
 },
 "nbformat": 4,
 "nbformat_minor": 2
}
