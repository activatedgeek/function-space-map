{
 "cells": [
  {
   "cell_type": "code",
   "execution_count": null,
   "metadata": {},
   "outputs": [],
   "source": [
    "import wandb\n",
    "from tqdm.auto import tqdm\n",
    "import pandas as pd\n",
    "\n",
    "def get_summary_metrics(sweep_id, filter_func=None):\n",
    "  api = wandb.Api(timeout=60)\n",
    "  sweep = api.sweep(sweep_id)\n",
    "\n",
    "  data = []\n",
    "  for run in tqdm(sweep.runs, desc='Runs', leave=False):\n",
    "    if callable(filter_func) and not filter_func(run):\n",
    "      continue\n",
    "    \n",
    "    run_summary = dict(run_id=run.id, **run.config, **run.summary)\n",
    "\n",
    "    data.append(run_summary)\n",
    "\n",
    "  return sweep, pd.DataFrame(data)"
   ]
  },
  {
   "cell_type": "code",
   "execution_count": null,
   "metadata": {},
   "outputs": [],
   "source": [
    "_, results = get_summary_metrics('deeplearn/fspace-inference/gac8ipj2')"
   ]
  },
  {
   "cell_type": "code",
   "execution_count": null,
   "metadata": {},
   "outputs": [],
   "source": [
    "metrics = results[['run_id', 'seed', 'dataset', 'context_size', 's/test/acc', 's/test/sel_acc', 's/test/avg_nll', 's/test/ece']]\n",
    "metrics['s/test/acc'] *= 100\n",
    "metrics['s/test/ece'] *= 100\n",
    "\n",
    "mu = metrics.groupby(['context_size']).mean(numeric_only=True).drop(columns=['seed'])\n",
    "mu['s/test/acc'] = mu['s/test/acc'].round(1)\n",
    "mu['s/test/sel_acc'] = mu['s/test/sel_acc'].round(1)\n",
    "mu['s/test/avg_nll'] = mu['s/test/avg_nll'].round(2)\n",
    "mu['s/test/ece'] = mu['s/test/ece'].round(1)\n",
    "\n",
    "sigma = metrics.groupby(['context_size']).std(numeric_only=True).drop(columns=['seed'])\n",
    "sigma['s/test/acc'] = sigma['s/test/acc'].round(1)\n",
    "sigma['s/test/sel_acc'] = sigma['s/test/sel_acc'].round(1)\n",
    "sigma['s/test/avg_nll'] = sigma['s/test/avg_nll'].round(2)\n",
    "sigma['s/test/ece'] = sigma['s/test/ece'].round(1)\n",
    "\n",
    "('$' + mu.astype(str) + ' \\pm ' + sigma.astype(str) + '$')#.reset_index().to_latex('tmp.txt', index=False)"
   ]
  }
 ],
 "metadata": {
  "kernelspec": {
   "display_name": "fspace",
   "language": "python",
   "name": "python3"
  },
  "language_info": {
   "codemirror_mode": {
    "name": "ipython",
    "version": 3
   },
   "file_extension": ".py",
   "mimetype": "text/x-python",
   "name": "python",
   "nbconvert_exporter": "python",
   "pygments_lexer": "ipython3",
   "version": "3.10.6"
  },
  "orig_nbformat": 4
 },
 "nbformat": 4,
 "nbformat_minor": 2
}
