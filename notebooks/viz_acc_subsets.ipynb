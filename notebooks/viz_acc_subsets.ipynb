{
 "cells": [
  {
   "cell_type": "code",
   "execution_count": null,
   "metadata": {},
   "outputs": [],
   "source": [
    "import pandas as pd\n",
    "import numpy as np\n",
    "import seaborn as sns\n",
    "import matplotlib.pyplot as plt\n",
    "import seaborn.objects as so\n",
    "\n",
    "sns.set(font_scale=1.5, style='whitegrid')"
   ]
  },
  {
   "cell_type": "markdown",
   "metadata": {},
   "source": [
    "## FashionMNIST"
   ]
  },
  {
   "cell_type": "code",
   "execution_count": null,
   "metadata": {},
   "outputs": [],
   "source": [
    "results = pd.read_csv('results/fmnist_subset.csv')"
   ]
  },
  {
   "cell_type": "code",
   "execution_count": null,
   "metadata": {},
   "outputs": [],
   "source": [
    "p = so.Plot(results,\n",
    "                x='decay', y='sgd/test/acc', color='mode')\\\n",
    "            .add(so.Line(marker='o'))\\\n",
    "            .scale(x='log')\\\n",
    "            .label(x='Decay Coeff.', y='Test Accuracy', color='Mode', title='Subset: {}'.format)\\\n",
    "            .facet('train_subset', wrap=3)\n",
    "\n",
    "p.plot()\n",
    "# p.save('fmnist_acc_subset.png', bbox_inches='tight')"
   ]
  },
  {
   "cell_type": "code",
   "execution_count": null,
   "metadata": {},
   "outputs": [],
   "source": [
    "p = so.Plot(results,\n",
    "                x='decay', y='sgd/test/avg_nll', color='mode')\\\n",
    "            .add(so.Line(marker='o'))\\\n",
    "            .scale(x='log')\\\n",
    "            .label(x='Decay Coeff.', y='Test Avg. NLL', color='Mode', title='Subset: {}'.format)\\\n",
    "            .facet('train_subset', wrap=3)\n",
    "\n",
    "p.plot()\n",
    "# p.save('fmnist_avg_nll_subset.png', bbox_inches='tight')"
   ]
  },
  {
   "cell_type": "markdown",
   "metadata": {},
   "source": [
    "## CIFAR-10"
   ]
  },
  {
   "cell_type": "code",
   "execution_count": null,
   "metadata": {},
   "outputs": [],
   "source": [
    "results = pd.read_csv('results/c10_subset.csv')"
   ]
  },
  {
   "cell_type": "code",
   "execution_count": null,
   "metadata": {},
   "outputs": [],
   "source": [
    "p = so.Plot(results,\n",
    "                x='decay', y='sgd/test/acc', color='mode')\\\n",
    "            .add(so.Line(marker='o'))\\\n",
    "            .scale(x='log')\\\n",
    "            .label(x='Decay Coeff.', y='Test Accuracy', color='Mode', title='Subset: {}'.format)\\\n",
    "            .facet('train_subset', wrap=3)\n",
    "\n",
    "p.plot()\n",
    "# p.save('c10_acc_subset.png', bbox_inches='tight')"
   ]
  },
  {
   "cell_type": "code",
   "execution_count": null,
   "metadata": {},
   "outputs": [],
   "source": [
    "p = so.Plot(results,\n",
    "                x='decay', y='sgd/test/avg_nll', color='mode')\\\n",
    "            .add(so.Line(marker='o'))\\\n",
    "            .scale(x='log')\\\n",
    "            .label(x='Decay Coeff.', y='Test Avg. NLL', color='Mode', title='Subset: {}'.format)\\\n",
    "            .facet('train_subset', wrap=3)\n",
    "\n",
    "p.plot()\n",
    "# p.save('c10_avg_nll_subset.png', bbox_inches='tight')"
   ]
  },
  {
   "cell_type": "code",
   "execution_count": null,
   "metadata": {},
   "outputs": [],
   "source": []
  }
 ],
 "metadata": {
  "kernelspec": {
   "display_name": "Python 3.10.6 ('fspace')",
   "language": "python",
   "name": "python3"
  },
  "language_info": {
   "codemirror_mode": {
    "name": "ipython",
    "version": 3
   },
   "file_extension": ".py",
   "mimetype": "text/x-python",
   "name": "python",
   "nbconvert_exporter": "python",
   "pygments_lexer": "ipython3",
   "version": "3.10.6"
  },
  "orig_nbformat": 4,
  "vscode": {
   "interpreter": {
    "hash": "cf78c7e6f2efe72a4ab2b9c73f062685208ec2c699b65763514c17bcea1347f8"
   }
  }
 },
 "nbformat": 4,
 "nbformat_minor": 2
}
