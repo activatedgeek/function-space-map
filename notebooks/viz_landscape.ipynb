{
 "cells": [
  {
   "cell_type": "code",
   "execution_count": null,
   "metadata": {},
   "outputs": [],
   "source": [
    "import os\n",
    "import numpy as np\n",
    "import pandas as pd"
   ]
  },
  {
   "cell_type": "code",
   "execution_count": null,
   "metadata": {},
   "outputs": [],
   "source": [
    "# results = np.concatenate([np.load(rf)['losses'] for rf in\n",
    "#                           sorted([f'{f.path}/files/results.npz' for f in os.scandir('../wandb') if f.is_dir() and 'offline' in f.path])[-5:]])\n",
    "# steps = np.linspace(-50, 50, results.shape[-1])\n",
    "\n",
    "# results = pd.concat([pd.DataFrame(dict(run_id=i, ce_loss=r, step=steps, dataset='fmnist', method='fsgc')) for i, r in enumerate(results)], ignore_index=True)\n",
    "# results.to_csv('fmnist_fsgc.csv', index=False)"
   ]
  },
  {
   "cell_type": "code",
   "execution_count": null,
   "metadata": {},
   "outputs": [],
   "source": [
    "# pd.concat([pd.read_csv('c10_fsgc.csv'), pd.read_csv('c10_ps.csv')], ignore_index=True).to_csv('results/c10_loss.csv', index=False)"
   ]
  },
  {
   "cell_type": "code",
   "execution_count": null,
   "metadata": {},
   "outputs": [],
   "source": [
    "import pandas as pd\n",
    "results = pd.read_csv('results/fmnist_loss.csv')\n",
    "\n",
    "\n",
    "import numpy as np\n",
    "results = results[np.abs(results.step) < 20.]"
   ]
  },
  {
   "cell_type": "code",
   "execution_count": null,
   "metadata": {},
   "outputs": [],
   "source": [
    "import seaborn as sns\n",
    "import matplotlib.pyplot as plt\n",
    "\n",
    "sns.set(style='whitegrid', font_scale=1.5)\n",
    "\n",
    "fig, ax = plt.subplots(figsize=(5,3))\n",
    "\n",
    "sns.lineplot(data=results, ax=ax, x='step', y='ce_loss', hue='method', errorbar='sd',\n",
    "             linewidth=2,\n",
    "             palette=sns.color_palette(\"Set2\", 2))\n",
    "\n",
    "ax.set(xlabel='Step Size', ylabel='Loss')\n",
    "\n",
    "labelmap = { 'ps': 'PS-MAP', 'fsgc': 'FSGC' }\n",
    "\n",
    "handles, labels = ax.get_legend_handles_labels()\n",
    "labels = [labelmap[l] for l in labels]\n",
    "for h in handles:\n",
    "    h.set(linewidth=2)\n",
    "ax.legend(handles=handles, labels=labels, fontsize=14, title='Method')\n",
    "\n",
    "fig.tight_layout()\n",
    "fig.show()\n",
    "# fig.savefig('c10_loss.pdf', bbox_inches='tight')"
   ]
  },
  {
   "cell_type": "code",
   "execution_count": null,
   "metadata": {},
   "outputs": [],
   "source": []
  }
 ],
 "metadata": {
  "kernelspec": {
   "display_name": "fspace",
   "language": "python",
   "name": "python3"
  },
  "language_info": {
   "codemirror_mode": {
    "name": "ipython",
    "version": 3
   },
   "file_extension": ".py",
   "mimetype": "text/x-python",
   "name": "python",
   "nbconvert_exporter": "python",
   "pygments_lexer": "ipython3",
   "version": "3.10.6"
  },
  "orig_nbformat": 4
 },
 "nbformat": 4,
 "nbformat_minor": 2
}
