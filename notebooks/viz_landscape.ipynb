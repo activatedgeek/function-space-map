{
 "cells": [
  {
   "cell_type": "code",
   "execution_count": null,
   "metadata": {},
   "outputs": [],
   "source": [
    "# import os\n",
    "# import numpy as np\n",
    "# import pandas as pd\n",
    "\n",
    "# results = np.concatenate([np.load(rf)['losses'] for rf in\n",
    "#                           sorted([f'{f.path}/files/results.npz' for f in os.scandir('../wandb') if f.is_dir() and 'offline-run-' in f.path])[-5:]])\n",
    "# steps = np.linspace(-50, 50, results.shape[-1])\n",
    "\n",
    "# dataset = 'cifar10'\n",
    "# method = 'ps'\n",
    "# results = pd.concat([pd.DataFrame(dict(run_id=i, ce_loss=r, step=steps, dataset=dataset, method=method)) for i, r in enumerate(results)], ignore_index=True)\n",
    "# results.to_csv(f'{dataset}_{method}.csv', index=False)"
   ]
  },
  {
   "cell_type": "code",
   "execution_count": null,
   "metadata": {},
   "outputs": [],
   "source": [
    "import pandas as pd\n",
    "\n",
    "results = pd.concat([\n",
    "    # pd.read_csv('twomoons_loss.csv'),\n",
    "    # pd.read_csv('results/cifar10_ps.csv'),\n",
    "    # pd.read_csv('results/cifar10_lmap.csv'),\n",
    "    # pd.read_csv('cifar10_fsgc.csv'),\n",
    "    pd.read_csv('results/fmnist_ps.csv'),\n",
    "    pd.read_csv('results/fmnist_lmap.csv'),\n",
    "], ignore_index=True)\n",
    "\n",
    "import numpy as np\n",
    "results = results[np.abs(results.step) < 20.]\n",
    "results['delta_ce_loss'] = results.groupby(['dataset', 'method'])['ce_loss'].transform(lambda x: x - x.min())"
   ]
  },
  {
   "cell_type": "code",
   "execution_count": null,
   "metadata": {},
   "outputs": [],
   "source": [
    "import seaborn as sns\n",
    "import matplotlib.pyplot as plt\n",
    "\n",
    "sns.set(style='whitegrid', font_scale=1.5)\n",
    "\n",
    "fig, ax = plt.subplots(figsize=(5,4))\n",
    "\n",
    "sns.lineplot(data=results, ax=ax, x='step', y='delta_ce_loss', hue='method', errorbar='se',\n",
    "             linewidth=2,\n",
    "             palette=[sns.color_palette(\"RdYlBu\")[0], sns.color_palette(\"RdYlBu\")[-1]])\n",
    "\n",
    "ax.set(xlabel='Step Size', ylabel=r'$\\Delta$ Loss')\n",
    "\n",
    "labelmap = { 'ps': 'PS-MAP', 'fsgc': 'FSGC', 'fs': 'FS-MAP', 'lmap': 'L-MAP' }\n",
    "\n",
    "handles, labels = ax.get_legend_handles_labels()\n",
    "labels = [labelmap[l] for l in labels]\n",
    "for h in handles:\n",
    "    h.set(linewidth=2)\n",
    "ax.legend(handles=handles, labels=labels, fontsize=14, title='Method', loc='upper center')\n",
    "\n",
    "from matplotlib import ticker\n",
    "formatter = ticker.ScalarFormatter(useMathText=True)\n",
    "formatter.set_scientific(True)\n",
    "formatter.set_powerlimits((-1,1))\n",
    "ax.yaxis.set_major_formatter(formatter)\n",
    "\n",
    "fig.tight_layout()\n",
    "fig.show()"
   ]
  }
 ],
 "metadata": {
  "kernelspec": {
   "display_name": "fspace",
   "language": "python",
   "name": "python3"
  },
  "language_info": {
   "codemirror_mode": {
    "name": "ipython",
    "version": 3
   },
   "file_extension": ".py",
   "mimetype": "text/x-python",
   "name": "python",
   "nbconvert_exporter": "python",
   "pygments_lexer": "ipython3",
   "version": "3.10.6"
  },
  "orig_nbformat": 4
 },
 "nbformat": 4,
 "nbformat_minor": 2
}
