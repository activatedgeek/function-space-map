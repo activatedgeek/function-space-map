{
 "cells": [
  {
   "cell_type": "code",
   "execution_count": null,
   "metadata": {},
   "outputs": [],
   "source": [
    "import os\n",
    "os.environ['CUDA_VISIBLE_DEVICES'] = '7'"
   ]
  },
  {
   "cell_type": "code",
   "execution_count": null,
   "metadata": {},
   "outputs": [],
   "source": [
    "from tqdm.auto import tqdm\n",
    "import matplotlib.pyplot as plt\n",
    "import seaborn as sns\n",
    "\n",
    "import pandas as pd\n",
    "import numpy as np\n",
    "import jax\n",
    "import jax.numpy as jnp\n",
    "import blackjax\n",
    "\n",
    "sns.set(font_scale=2, style='whitegrid')"
   ]
  },
  {
   "cell_type": "code",
   "execution_count": null,
   "metadata": {},
   "outputs": [],
   "source": [
    "from sklearn.datasets import make_moons\n",
    "\n",
    "x_all, y_all = make_moons(n_samples=100, noise=.1)"
   ]
  },
  {
   "cell_type": "code",
   "execution_count": null,
   "metadata": {},
   "outputs": [],
   "source": [
    "fig, ax = plt.subplots(figsize=(7,7))\n",
    "\n",
    "ax.scatter(x_all[y_all == 0, 0], x_all[y_all == 0, 1], label='Class 0')\n",
    "ax.scatter(x_all[y_all == 1, 0], x_all[y_all == 1, 1], label='Class 1')\n",
    "\n",
    "ax.set(xlabel='x', ylabel='y')\n",
    "ax.legend()\n",
    "\n",
    "fig.tight_layout()\n",
    "fig.show()"
   ]
  },
  {
   "cell_type": "code",
   "execution_count": null,
   "metadata": {},
   "outputs": [],
   "source": [
    "from flax import linen as nn\n",
    "\n",
    "class MLP(nn.Module):\n",
    "    n_classes: int\n",
    "    H: int = 100\n",
    "\n",
    "    @nn.compact\n",
    "    def __call__(self, x):\n",
    "        out = nn.Sequential([\n",
    "            nn.Dense(features=self.H),\n",
    "            nn.relu,\n",
    "            nn.Dense(features=self.H),\n",
    "            nn.relu,\n",
    "            nn.Dense(features=self.n_classes)\n",
    "        ])(x)\n",
    "        return out\n",
    "\n",
    "model = MLP(n_classes=2)"
   ]
  },
  {
   "cell_type": "code",
   "execution_count": null,
   "metadata": {},
   "outputs": [],
   "source": [
    "rng_key = jax.random.PRNGKey(137)\n",
    "rng_key, init_params_key = jax.random.split(rng_key)\n",
    "init_params = jax.jit(model.init)(init_params_key, jnp.ones(2))\n",
    "n_params = sum([len(np.ravel(p)) for p in jax.tree_util.tree_flatten(init_params)[0]])"
   ]
  },
  {
   "cell_type": "code",
   "execution_count": null,
   "metadata": {},
   "outputs": [],
   "source": [
    "from functools import partial\n",
    "import distrax\n",
    "\n",
    "\n",
    "def logprior_fn(params):\n",
    "    leaves, _ = jax.tree_util.tree_flatten(init_params)\n",
    "    flat_params = jnp.concatenate([jnp.ravel(p) for p in leaves])\n",
    "    lik = distrax.Normal(0., 1.).log_prob(flat_params)\n",
    "    return jnp.sum(lik)\n",
    "\n",
    "def loglikelihood_fn(params):\n",
    "    logits = model.apply(params, x_all)\n",
    "    lik = distrax.Categorical(logits=logits).log_prob(y_all)\n",
    "    return jnp.sum(lik)\n",
    "\n",
    "def logprob_fn(params):\n",
    "    return loglikelihood_fn(params) + logprior_fn(params)"
   ]
  },
  {
   "cell_type": "code",
   "execution_count": null,
   "metadata": {},
   "outputs": [],
   "source": [
    "hmc = blackjax.hmc(logprob_fn, 1e-4, jnp.eye(n_params), 100)\n",
    "hmc_state = hmc.init(init_params)\n",
    "hmc_kernel = jax.jit(hmc.step)"
   ]
  },
  {
   "cell_type": "code",
   "execution_count": null,
   "metadata": {},
   "outputs": [],
   "source": [
    "_x = np.linspace(x_all[:, 0].min() - 1., x_all[:, 0].max() + 1., 100)\n",
    "_y = np.linspace(x_all[:, 1].min() - 1., x_all[:, 1].max() + 1., 100)\n",
    "grid = np.stack(np.meshgrid(_x, _y), axis=-1)\n",
    "grid.shape"
   ]
  },
  {
   "cell_type": "code",
   "execution_count": null,
   "metadata": {},
   "outputs": [],
   "source": [
    "burn_in = 1000\n",
    "n_samples = 500\n",
    "rng_key = jax.random.PRNGKey(137)\n",
    "\n",
    "sample_logits = []\n",
    "for e in tqdm(range(burn_in + n_samples)):\n",
    "    rng_key, sample_rng_key = jax.random.split(rng_key)\n",
    "    hmc_state, info = hmc_kernel(sample_rng_key, hmc_state)\n",
    "    if e >= burn_in:\n",
    "        sample_logits.append(model.apply(hmc_state.position, grid))\n",
    "\n",
    "sample_logits = np.stack(sample_logits, axis=-1)"
   ]
  },
  {
   "cell_type": "code",
   "execution_count": null,
   "metadata": {},
   "outputs": [],
   "source": [
    "fig, ax = plt.subplots(figsize=(7,7))\n",
    "\n",
    "ax.contourf(grid[..., 0], grid[..., 1], np.mean(sample_logits, axis=-1)[..., 1], vmin=0., vmax=1.)\n",
    "\n",
    "ax.scatter(x_all[y_all == 0, 0], x_all[y_all == 0, 1], label='Class 0')\n",
    "ax.scatter(x_all[y_all == 1, 0], x_all[y_all == 1, 1], label='Class 1')\n",
    "\n",
    "ax.set(xlabel='x', ylabel='y')\n",
    "\n",
    "fig.tight_layout()\n",
    "fig.show()"
   ]
  },
  {
   "cell_type": "code",
   "execution_count": null,
   "metadata": {},
   "outputs": [],
   "source": []
  }
 ],
 "metadata": {
  "kernelspec": {
   "display_name": "Python 3.10.6 ('fspace')",
   "language": "python",
   "name": "python3"
  },
  "language_info": {
   "codemirror_mode": {
    "name": "ipython",
    "version": 3
   },
   "file_extension": ".py",
   "mimetype": "text/x-python",
   "name": "python",
   "nbconvert_exporter": "python",
   "pygments_lexer": "ipython3",
   "version": "3.10.6"
  },
  "orig_nbformat": 4,
  "vscode": {
   "interpreter": {
    "hash": "cf78c7e6f2efe72a4ab2b9c73f062685208ec2c699b65763514c17bcea1347f8"
   }
  }
 },
 "nbformat": 4,
 "nbformat_minor": 2
}
