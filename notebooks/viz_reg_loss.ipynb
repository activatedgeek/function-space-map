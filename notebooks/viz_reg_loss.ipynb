{
 "cells": [
  {
   "cell_type": "code",
   "execution_count": null,
   "metadata": {},
   "outputs": [],
   "source": [
    "# import pandas as pd\n",
    "# curves = pd.read_csv('reg_loss.csv')[['Step', '', '']]\n",
    "# results_ps = pd.DataFrame({\n",
    "#     'step': curves.Step.values,\n",
    "#     'reg_loss': curves[''].values,\n",
    "#     'method': 'ps'\n",
    "# })\n",
    "# results_lmap = pd.DataFrame({\n",
    "#     'step': curves.Step.values,\n",
    "#     'reg_loss': curves[''].values,\n",
    "#     'method': 'lmap'\n",
    "# })\n",
    "# results = pd.concat([results_ps, results_lmap], ignore_index=True)"
   ]
  },
  {
   "cell_type": "code",
   "execution_count": null,
   "metadata": {},
   "outputs": [],
   "source": [
    "import pandas as pd\n",
    "\n",
    "results = pd.read_csv('results/c10_reg_loss_traj.csv')\n",
    "results['epoch'] = (results.step * 100) // 391 - 1\n",
    "results = results[results.epoch >= 0]"
   ]
  },
  {
   "cell_type": "code",
   "execution_count": null,
   "metadata": {},
   "outputs": [],
   "source": [
    "import numpy as np\n",
    "import seaborn as sns\n",
    "import matplotlib.pyplot as plt\n",
    "\n",
    "sns.set(style='whitegrid', font_scale=1.7)\n",
    "\n",
    "fig, ax = plt.subplots(figsize=(4,4))\n",
    "\n",
    "sns.lineplot(data=results, ax=ax, x='epoch', y='reg_loss', hue='method', errorbar='sd',\n",
    "             linewidth=2,\n",
    "             hue_order=['lmap', 'ps'],\n",
    "             palette=sns.color_palette('Set2', 2))\n",
    "\n",
    "ax.set(xlabel='Epoch', ylabel='Laplacian Est.')\n",
    "ax.set_xticks(np.arange(0, 51, 10))\n",
    "# ax.set_xticks(np.arange(0, 201, 50))\n",
    "\n",
    "labelmap = { 'ps': 'PS-MAP', 'fsgc': 'FSGC', 'fs': 'FS-MAP', 'lmap': 'L-MAP' }\n",
    "\n",
    "handles, labels = ax.get_legend_handles_labels()\n",
    "labels = [labelmap[l] for l in labels]\n",
    "for h in handles:\n",
    "    h.set(linewidth=2)\n",
    "ax.legend(handles=handles, labels=labels, fontsize=14, title='Method', loc='best')\n",
    "\n",
    "from matplotlib import ticker\n",
    "formatter = ticker.ScalarFormatter(useMathText=True)\n",
    "formatter.set_scientific(True)\n",
    "formatter.set_powerlimits((-1,1))\n",
    "ax.yaxis.set_major_formatter(formatter)\n",
    "\n",
    "ax.legend().remove()\n",
    "\n",
    "fig.tight_layout()\n",
    "fig.show()\n",
    "\n",
    "# fig.savefig('reg_loss.pdf', bbox_inches='tight')"
   ]
  }
 ],
 "metadata": {
  "kernelspec": {
   "display_name": "fspace",
   "language": "python",
   "name": "python3"
  },
  "language_info": {
   "codemirror_mode": {
    "name": "ipython",
    "version": 3
   },
   "file_extension": ".py",
   "mimetype": "text/x-python",
   "name": "python",
   "nbconvert_exporter": "python",
   "pygments_lexer": "ipython3",
   "version": "3.10.6"
  },
  "orig_nbformat": 4
 },
 "nbformat": 4,
 "nbformat_minor": 2
}
