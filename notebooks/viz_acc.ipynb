{
 "cells": [
  {
   "cell_type": "code",
   "execution_count": null,
   "metadata": {},
   "outputs": [],
   "source": [
    "import pandas as pd\n",
    "import numpy as np\n",
    "import seaborn as sns\n",
    "import matplotlib.pyplot as plt\n",
    "import seaborn.objects as so\n",
    "\n",
    "sns.set(font_scale=1.5, style='whitegrid')"
   ]
  },
  {
   "cell_type": "markdown",
   "metadata": {},
   "source": [
    "## FashionMNIST"
   ]
  },
  {
   "cell_type": "code",
   "execution_count": null,
   "metadata": {},
   "outputs": [],
   "source": [
    "# ## fmnist-mresnet18\n",
    "# _, _data = get_summary_metrics('deeplearn/fspace-inference/qenp08md')\n",
    "# _data['mode'] = 'PS-MAP'\n",
    "\n",
    "# ## fmnist-mresnet18-fsmap\n",
    "# _, _data2 = get_summary_metrics('deeplearn/fspace-inference/8ivlvot8')\n",
    "# _data2['mode'] = 'FS-MAP'\n",
    "\n",
    "# results = pd.concat([_data, _data2], ignore_index=False)\n",
    "# results['decay'] = results['weight_decay'].fillna(results['func_decay'])\n",
    "\n",
    "# results.to_csv('results/fmnist_subset.csv', index=False)"
   ]
  },
  {
   "cell_type": "code",
   "execution_count": null,
   "metadata": {},
   "outputs": [],
   "source": [
    "results = pd.read_csv('results/fmnist_subset.csv')"
   ]
  },
  {
   "cell_type": "code",
   "execution_count": null,
   "metadata": {},
   "outputs": [],
   "source": [
    "fig, ax = plt.subplots(figsize=(6,3))\n",
    "\n",
    "p = so.Plot(results[results.train_subset == 1.],\n",
    "                x='decay', y='sgd/test/acc', color='mode')\\\n",
    "            .add(so.Line(marker='o'))\\\n",
    "            .scale(x='log')\\\n",
    "            .label(x='Decay Coeff.', y='Test Accuracy', title='FashionMNIST', color='Mode')\n",
    "p.on(ax).show()\n",
    "\n",
    "fig.tight_layout()\n",
    "# fig.savefig('fmnist_acc.png')"
   ]
  },
  {
   "cell_type": "code",
   "execution_count": null,
   "metadata": {},
   "outputs": [],
   "source": [
    "fig, ax = plt.subplots(figsize=(6,3))\n",
    "\n",
    "p = so.Plot(results[results.train_subset == 1.],\n",
    "                x='decay', y='sgd/test/avg_nll', color='mode')\\\n",
    "            .add(so.Line(marker='o'))\\\n",
    "            .scale(x='log')\\\n",
    "            .label(x='Decay Coeff.', y='Test Avg. NLL', title='FashionMNIST', color='Mode')\n",
    "p.on(ax).show()\n",
    "\n",
    "fig.tight_layout()\n",
    "# fig.savefig('fmnist_avg_nll.png')"
   ]
  },
  {
   "cell_type": "markdown",
   "metadata": {},
   "source": [
    "## CIFAR-10"
   ]
  },
  {
   "cell_type": "code",
   "execution_count": null,
   "metadata": {},
   "outputs": [],
   "source": [
    "# ## c10-mresnet18\n",
    "# _, _data = get_summary_metrics('deeplearn/fspace-inference/1kxhwpx4')\n",
    "# _data['mode'] = 'PS-MAP'\n",
    "\n",
    "# ## c10-mresnet18-fsmap\n",
    "# _, _data2 = get_summary_metrics('deeplearn/fspace-inference/6p64taxk')\n",
    "# _data2['mode'] = 'FS-MAP'\n",
    "\n",
    "# results = pd.concat([_data, _data2], ignore_index=False)\n",
    "# results['decay'] = results['weight_decay'].fillna(results['func_decay'])\n",
    "\n",
    "# results.to_csv('results/c10_subset.csv', index=False)"
   ]
  },
  {
   "cell_type": "code",
   "execution_count": null,
   "metadata": {},
   "outputs": [],
   "source": [
    "results = pd.read_csv('results/c10_subset.csv')"
   ]
  },
  {
   "cell_type": "code",
   "execution_count": null,
   "metadata": {},
   "outputs": [],
   "source": [
    "fig, ax = plt.subplots(figsize=(6,3))\n",
    "\n",
    "p = so.Plot(results[results.train_subset == 1.],\n",
    "                x='decay', y='sgd/test/acc', color='mode')\\\n",
    "            .add(so.Line(marker='o'))\\\n",
    "            .scale(x='log')\\\n",
    "            .label(x='Decay Coeff.', y='Test Accuracy', title='CIFAR-10', color='Mode')\n",
    "p.on(ax).show()\n",
    "# fig.savefig('c10_acc.png')"
   ]
  },
  {
   "cell_type": "code",
   "execution_count": null,
   "metadata": {},
   "outputs": [],
   "source": [
    "fig, ax = plt.subplots(figsize=(6,3))\n",
    "\n",
    "p = so.Plot(results[results.train_subset == 1.],\n",
    "                x='decay', y='sgd/test/avg_nll', color='mode')\\\n",
    "            .add(so.Line(marker='o'))\\\n",
    "            .scale(x='log')\\\n",
    "            .label(x='Decay Coeff.', y='Test Avg. NLL', title='CIFAR-10', color='Mode')\n",
    "p.on(ax).show()\n",
    "\n",
    "fig.tight_layout()\n",
    "# fig.savefig('c10_avg_nll.png')"
   ]
  },
  {
   "cell_type": "code",
   "execution_count": null,
   "metadata": {},
   "outputs": [],
   "source": []
  }
 ],
 "metadata": {
  "kernelspec": {
   "display_name": "Python 3.10.6 ('fspace')",
   "language": "python",
   "name": "python3"
  },
  "language_info": {
   "codemirror_mode": {
    "name": "ipython",
    "version": 3
   },
   "file_extension": ".py",
   "mimetype": "text/x-python",
   "name": "python",
   "nbconvert_exporter": "python",
   "pygments_lexer": "ipython3",
   "version": "3.10.6"
  },
  "orig_nbformat": 4,
  "vscode": {
   "interpreter": {
    "hash": "cf78c7e6f2efe72a4ab2b9c73f062685208ec2c699b65763514c17bcea1347f8"
   }
  }
 },
 "nbformat": 4,
 "nbformat_minor": 2
}
