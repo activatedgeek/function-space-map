{
 "cells": [
  {
   "cell_type": "code",
   "execution_count": null,
   "metadata": {},
   "outputs": [],
   "source": [
    "import pandas as pd\n",
    "import numpy as np\n",
    "import seaborn as sns\n",
    "import matplotlib.pyplot as plt\n",
    "import seaborn.objects as so\n",
    "\n",
    "sns.set(font_scale=1.5, style='whitegrid')"
   ]
  },
  {
   "cell_type": "code",
   "execution_count": null,
   "metadata": {},
   "outputs": [],
   "source": [
    "import wandb\n",
    "from tqdm.auto import tqdm\n",
    "import pandas as pd\n",
    "\n",
    "\n",
    "def get_summary_metrics(sweep_id, filter_func=None):\n",
    "  api = wandb.Api(timeout=60)\n",
    "  sweep = api.sweep(sweep_id)\n",
    "\n",
    "  data = []\n",
    "  for run in tqdm(sweep.runs, desc='Runs', leave=False):\n",
    "    if callable(filter_func) and not filter_func(run):\n",
    "      continue\n",
    "    \n",
    "    run_summary = dict(run_id=run.id, **run.config, **run.summary)\n",
    "    scan_keys = [k for k in run_summary.keys() if k.endswith(('epoch', 'acc', 'nll', 'avg_nll'))]\n",
    "    for row in run.scan_history(keys=scan_keys):\n",
    "      if run_summary['val/best_epoch'] == row['sgd/val/epoch']:\n",
    "        run_summary = dict(**run_summary, **row)\n",
    "        break\n",
    "\n",
    "    data.append(run_summary)\n",
    "\n",
    "  return sweep, pd.DataFrame(data)"
   ]
  },
  {
   "cell_type": "markdown",
   "metadata": {},
   "source": [
    "## FashionMNIST"
   ]
  },
  {
   "cell_type": "code",
   "execution_count": null,
   "metadata": {},
   "outputs": [],
   "source": [
    "# ## fmnist-mresnet18-lnoise\n",
    "# _, _data = get_summary_metrics('deeplearn/fspace-inference/r1rfv4xj')\n",
    "# _data['mode'] = 'PS-MAP'\n",
    "\n",
    "# ## fmnist-mresnet18-lnoise-fsmap\n",
    "# _, _data2 = get_summary_metrics('deeplearn/fspace-inference/zl1v1w2n')\n",
    "# _data2['mode'] = 'FS-MAP'\n",
    "\n",
    "# results = pd.concat([_data, _data2], ignore_index=False)\n",
    "# results['decay'] = results['weight_decay'].fillna(results['func_decay'])\n",
    "\n",
    "# results.to_csv('results/fmnist_lnoise.csv', index=False)"
   ]
  },
  {
   "cell_type": "code",
   "execution_count": null,
   "metadata": {},
   "outputs": [],
   "source": [
    "results = pd.read_csv('results/fmnist_lnoise.csv')"
   ]
  },
  {
   "cell_type": "code",
   "execution_count": null,
   "metadata": {},
   "outputs": [],
   "source": [
    "p = so.Plot(results,\n",
    "                x='decay', y='sgd/test/acc', color='mode')\\\n",
    "            .add(so.Line(marker='o'))\\\n",
    "            .scale(x='log')\\\n",
    "            .label(x='Decay Coeff.', y='Test Accuracy', color='Mode', title='Noise: {}'.format)\\\n",
    "            .facet('label_noise', wrap=2)\n",
    "\n",
    "p.plot()\n",
    "# p.save('fmnist_acc_noise.png', bbox_inches='tight')"
   ]
  },
  {
   "cell_type": "code",
   "execution_count": null,
   "metadata": {},
   "outputs": [],
   "source": [
    "p = so.Plot(results,\n",
    "                x='decay', y='sgd/test/avg_nll', color='mode')\\\n",
    "            .add(so.Line(marker='o'))\\\n",
    "            .scale(x='log')\\\n",
    "            .label(x='Decay Coeff.', y='Test Avg. NLL', color='Mode', title='Noise: {}'.format)\\\n",
    "            .facet('label_noise', wrap=2)\n",
    "\n",
    "p.plot()\n",
    "# p.save('fmnist_avg_nll_noise.png', bbox_inches='tight')"
   ]
  },
  {
   "cell_type": "markdown",
   "metadata": {},
   "source": [
    "## CIFAR-10"
   ]
  },
  {
   "cell_type": "code",
   "execution_count": null,
   "metadata": {},
   "outputs": [],
   "source": [
    "# ## c10-mresnet18-lnoise\n",
    "# _, _data = get_summary_metrics('deeplearn/fspace-inference/fu2bvbac')\n",
    "# _data['mode'] = 'PS-MAP'\n",
    "\n",
    "# ## c10-mresnet18-lnoise-fsmap\n",
    "# _, _data2 = get_summary_metrics('deeplearn/fspace-inference/ovjzu2tf')\n",
    "# _data2['mode'] = 'FS-MAP'\n",
    "\n",
    "# results = pd.concat([_data, _data2], ignore_index=False)\n",
    "# results['decay'] = results['weight_decay'].fillna(results['func_decay'])\n",
    "\n",
    "# results.to_csv('results/c10_lnoise.csv', index=False)"
   ]
  },
  {
   "cell_type": "code",
   "execution_count": null,
   "metadata": {},
   "outputs": [],
   "source": [
    "results = pd.read_csv('results/c10_lnoise.csv')"
   ]
  },
  {
   "cell_type": "code",
   "execution_count": null,
   "metadata": {},
   "outputs": [],
   "source": [
    "p = so.Plot(results,\n",
    "                x='decay', y='sgd/test/acc', color='mode')\\\n",
    "            .add(so.Line(marker='o'))\\\n",
    "            .scale(x='log')\\\n",
    "            .label(x='Decay Coeff.', y='Test Accuracy', color='Mode', title='Noise: {}'.format)\\\n",
    "            .facet('label_noise', wrap=2)\n",
    "\n",
    "p.plot()\n",
    "# p.save('c10_acc_noise.png', bbox_inches='tight')"
   ]
  },
  {
   "cell_type": "code",
   "execution_count": null,
   "metadata": {},
   "outputs": [],
   "source": [
    "p = so.Plot(results,\n",
    "                x='decay', y='sgd/test/avg_nll', color='mode')\\\n",
    "            .add(so.Line(marker='o'))\\\n",
    "            .scale(x='log')\\\n",
    "            .label(x='Decay Coeff.', y='Test Avg. NLL', color='Mode', title='Noise: {}'.format)\\\n",
    "            .facet('label_noise', wrap=2)\n",
    "\n",
    "p.plot()\n",
    "# p.save('c10_avg_nll_noise.png', bbox_inches='tight')"
   ]
  },
  {
   "cell_type": "code",
   "execution_count": null,
   "metadata": {},
   "outputs": [],
   "source": []
  }
 ],
 "metadata": {
  "kernelspec": {
   "display_name": "Python 3.10.6 ('fspace')",
   "language": "python",
   "name": "python3"
  },
  "language_info": {
   "codemirror_mode": {
    "name": "ipython",
    "version": 3
   },
   "file_extension": ".py",
   "mimetype": "text/x-python",
   "name": "python",
   "nbconvert_exporter": "python",
   "pygments_lexer": "ipython3",
   "version": "3.10.6"
  },
  "orig_nbformat": 4,
  "vscode": {
   "interpreter": {
    "hash": "cf78c7e6f2efe72a4ab2b9c73f062685208ec2c699b65763514c17bcea1347f8"
   }
  }
 },
 "nbformat": 4,
 "nbformat_minor": 2
}
