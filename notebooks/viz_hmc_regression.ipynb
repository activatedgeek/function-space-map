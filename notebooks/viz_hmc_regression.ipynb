{
 "cells": [
  {
   "cell_type": "code",
   "execution_count": null,
   "metadata": {},
   "outputs": [],
   "source": [
    "import os\n",
    "os.environ['CUDA_VISIBLE_DEVICES'] = '7'"
   ]
  },
  {
   "cell_type": "code",
   "execution_count": null,
   "metadata": {},
   "outputs": [],
   "source": [
    "from tqdm.auto import tqdm\n",
    "import matplotlib.pyplot as plt\n",
    "import seaborn as sns\n",
    "\n",
    "import pandas as pd\n",
    "import numpy as np\n",
    "import jax\n",
    "import jax.numpy as jnp\n",
    "import blackjax\n",
    "\n",
    "sns.set(font_scale=2, style='whitegrid')"
   ]
  },
  {
   "cell_type": "code",
   "execution_count": null,
   "metadata": {},
   "outputs": [],
   "source": [
    "_raw_data = pd.read_csv('snelson.csv')\n",
    "x_all, y_all = np.atleast_2d(_raw_data.x.values).T, np.atleast_2d(_raw_data.y.values).T\n",
    "x_all = (x_all - np.mean(x_all, axis=0, keepdims=True)) / np.std(x_all, axis=0, keepdims=True)\n",
    "y_all = (y_all - np.mean(y_all, axis=0, keepdims=True)) / np.std(y_all, axis=0, keepdims=True)\n",
    "x_all.shape, y_all.shape"
   ]
  },
  {
   "cell_type": "code",
   "execution_count": null,
   "metadata": {},
   "outputs": [],
   "source": [
    "fig, ax = plt.subplots(figsize=(9,6))\n",
    "\n",
    "ax.scatter(x_all, y_all)\n",
    "\n",
    "ax.set(xlabel='x', ylabel='y')\n",
    "\n",
    "fig.tight_layout()\n",
    "fig.show()"
   ]
  },
  {
   "cell_type": "code",
   "execution_count": null,
   "metadata": {},
   "outputs": [],
   "source": [
    "from flax import linen as nn\n",
    "\n",
    "class MLP(nn.Module):\n",
    "    out_size: int\n",
    "    H: int = 100\n",
    "\n",
    "    @nn.compact\n",
    "    def __call__(self, x):\n",
    "        out = nn.Sequential([\n",
    "            nn.Dense(features=self.H),\n",
    "            nn.relu,\n",
    "            nn.Dense(features=self.H),\n",
    "            nn.relu,\n",
    "            nn.Dense(features=self.out_size)\n",
    "        ])(x)\n",
    "        return out\n",
    "\n",
    "model = MLP(out_size=1)"
   ]
  },
  {
   "cell_type": "code",
   "execution_count": null,
   "metadata": {},
   "outputs": [],
   "source": [
    "rng_key = jax.random.PRNGKey(137)\n",
    "rng_key, init_params_key = jax.random.split(rng_key)\n",
    "init_params = jax.jit(model.init)(init_params_key, jnp.ones((1, 1)))\n",
    "n_params = sum([len(np.ravel(p)) for p in jax.tree_util.tree_flatten(init_params)[0]])"
   ]
  },
  {
   "cell_type": "code",
   "execution_count": null,
   "metadata": {},
   "outputs": [],
   "source": [
    "from functools import partial\n",
    "import distrax\n",
    "\n",
    "\n",
    "def logprior_fn(params):\n",
    "    leaves, _ = jax.tree_util.tree_flatten(init_params)\n",
    "    flat_params = jnp.concatenate([jnp.ravel(p) for p in leaves])\n",
    "    lik = distrax.Normal(0., 1.).log_prob(flat_params)\n",
    "    return jnp.sum(lik)\n",
    "\n",
    "def loglikelihood_fn(params):\n",
    "    f = model.apply(params, x_all)\n",
    "    lik = distrax.Normal(f, .5).log_prob(y_all)\n",
    "    return jnp.sum(lik)\n",
    "\n",
    "def logprob_fn(params):\n",
    "    return loglikelihood_fn(params) + logprior_fn(params)"
   ]
  },
  {
   "cell_type": "code",
   "execution_count": null,
   "metadata": {},
   "outputs": [],
   "source": [
    "x_test = np.linspace(x_all.min() - 1., x_all.max() + 1., 200)\n",
    "x_test = np.atleast_2d(x_test).T\n",
    "x_test.shape"
   ]
  },
  {
   "cell_type": "code",
   "execution_count": null,
   "metadata": {},
   "outputs": [],
   "source": [
    "hmc = blackjax.hmc(logprob_fn, 1e-4, jnp.eye(n_params), 200)\n",
    "hmc_state = hmc.init(init_params)\n",
    "hmc_kernel = jax.jit(hmc.step)"
   ]
  },
  {
   "cell_type": "code",
   "execution_count": null,
   "metadata": {},
   "outputs": [],
   "source": [
    "burn_in = 200\n",
    "n_samples = 100\n",
    "rng_key = jax.random.PRNGKey(137)\n",
    "\n",
    "for _ in tqdm(range(burn_in)):\n",
    "    rng_key, sample_rng_key = jax.random.split(rng_key)\n",
    "    hmc_state, info = hmc_kernel(sample_rng_key, hmc_state)\n",
    "\n",
    "sample_f = []\n",
    "for _ in tqdm(range(n_samples)):\n",
    "    rng_key, sample_rng_key = jax.random.split(rng_key)\n",
    "    hmc_state, info = hmc_kernel(sample_rng_key, hmc_state)\n",
    "    sample_f.append(model.apply(hmc_state.position, x_test))\n",
    "\n",
    "sample_f = np.stack(sample_f, axis=-1)\n",
    "sample_f.shape"
   ]
  },
  {
   "cell_type": "code",
   "execution_count": null,
   "metadata": {},
   "outputs": [],
   "source": [
    "fig, ax = plt.subplots(figsize=(9,6))\n",
    "\n",
    "y_test = np.mean(sample_f, axis=-1)[..., 0]\n",
    "y_test_std = np.std(sample_f, axis=-1)[..., 0]\n",
    "ax.plot(x_test[..., 0], y_test, c='red')\n",
    "ax.fill_between(x_test[..., 0], y_test - 2 * y_test_std, y_test + 2 * y_test_std, color='red', alpha=.2)\n",
    "\n",
    "ax.scatter(x_all, y_all)\n",
    "\n",
    "ax.set(xlabel='x', ylabel='y')\n",
    "\n",
    "fig.tight_layout()\n",
    "fig.show()"
   ]
  }
 ],
 "metadata": {
  "kernelspec": {
   "display_name": "Python 3.10.6 ('fspace')",
   "language": "python",
   "name": "python3"
  },
  "language_info": {
   "codemirror_mode": {
    "name": "ipython",
    "version": 3
   },
   "file_extension": ".py",
   "mimetype": "text/x-python",
   "name": "python",
   "nbconvert_exporter": "python",
   "pygments_lexer": "ipython3",
   "version": "3.10.6"
  },
  "orig_nbformat": 4,
  "vscode": {
   "interpreter": {
    "hash": "cf78c7e6f2efe72a4ab2b9c73f062685208ec2c699b65763514c17bcea1347f8"
   }
  }
 },
 "nbformat": 4,
 "nbformat_minor": 2
}
