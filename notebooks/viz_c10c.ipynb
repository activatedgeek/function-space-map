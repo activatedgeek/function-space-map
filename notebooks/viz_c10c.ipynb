{
 "cells": [
  {
   "cell_type": "code",
   "execution_count": null,
   "metadata": {},
   "outputs": [],
   "source": [
    "import pandas as pd\n",
    "import numpy as np\n",
    "import seaborn as sns\n",
    "import matplotlib.pyplot as plt\n",
    "import seaborn.objects as so"
   ]
  },
  {
   "cell_type": "code",
   "execution_count": null,
   "metadata": {},
   "outputs": [],
   "source": [
    "import wandb\n",
    "from tqdm.auto import tqdm\n",
    "import pandas as pd\n",
    "\n",
    "def get_summary_metrics(sweep_id, filter_func=None):\n",
    "  api = wandb.Api(timeout=60)\n",
    "  sweep = api.sweep(sweep_id)\n",
    "\n",
    "  data = []\n",
    "  for run in tqdm(sweep.runs, desc='Runs', leave=False):\n",
    "    if callable(filter_func) and not filter_func(run):\n",
    "      continue\n",
    "    \n",
    "    run_summary = dict(run_id=run.id, **run.config, **run.summary)\n",
    "\n",
    "    data.append(run_summary)\n",
    "\n",
    "  return sweep, pd.DataFrame(data)"
   ]
  },
  {
   "cell_type": "code",
   "execution_count": null,
   "metadata": {},
   "outputs": [],
   "source": [
    "# _, lmap_metrics = get_summary_metrics('deeplearn/fspace-inference/6vah02u6')\n",
    "\n",
    "# lmap_metrics = lmap_metrics[['run_id', 'ckpt_path', 'corr_config', 's/test/acc', 's/test/sel_acc', 's/test/ece', 's/test/avg_nll']]\n",
    "# lmap_metrics['level'] = lmap_metrics['corr_config'].apply(lambda row: int(row.split('_')[-1]))\n",
    "# lmap_metrics['corruption'] = lmap_metrics['corr_config'].apply(lambda row: '_'.join(row.split('_')[:-1]))\n",
    "\n",
    "# ckpt_to_seed_id = dict(zip(lmap_metrics.ckpt_path.unique().tolist(), list(range(lmap_metrics.ckpt_path.nunique()))))\n",
    "# lmap_metrics['seed_id'] = lmap_metrics['ckpt_path'].apply(lambda row: ckpt_to_seed_id[row])\n",
    "# lmap_metrics['mode'] = 'lmap'"
   ]
  },
  {
   "cell_type": "code",
   "execution_count": null,
   "metadata": {},
   "outputs": [],
   "source": [
    "_, fsgc_metrics = get_summary_metrics('deeplearn/fspace-inference/chefbo1z')\n",
    "\n",
    "fsgc_metrics['level'] = fsgc_metrics['corr_config'].apply(lambda row: int(row.split('_')[-1]))\n",
    "fsgc_metrics['corruption'] = fsgc_metrics['corr_config'].apply(lambda row: '_'.join(row.split('_')[:-1]))\n",
    "\n",
    "ckpt_to_seed_id = dict(zip(fsgc_metrics.ckpt_path.unique().tolist(), list(range(fsgc_metrics.ckpt_path.nunique()))))\n",
    "fsgc_metrics['seed_id'] = fsgc_metrics['ckpt_path'].apply(lambda row: ckpt_to_seed_id[row])\n",
    "fsgc_metrics['mode'] = 'fsgc'\n",
    "\n",
    "fsgc_metrics = fsgc_metrics[['mode', 'corruption', 'level', 'seed_id', 's/test/acc', 's/test/sel_acc']]\n",
    "fsgc_metrics['s/test/acc'] *= 100"
   ]
  },
  {
   "cell_type": "code",
   "execution_count": null,
   "metadata": {},
   "outputs": [],
   "source": [
    "_, ps_metrics = get_summary_metrics('deeplearn/fspace-inference/eoi1wbz4')\n",
    "\n",
    "ps_metrics['level'] = ps_metrics['corr_config'].apply(lambda row: int(row.split('_')[-1]))\n",
    "ps_metrics['corruption'] = ps_metrics['corr_config'].apply(lambda row: '_'.join(row.split('_')[:-1]))\n",
    "\n",
    "ckpt_to_seed_id = dict(zip(ps_metrics.ckpt_path.unique().tolist(), list(range(ps_metrics.ckpt_path.nunique()))))\n",
    "ps_metrics['seed_id'] = ps_metrics['ckpt_path'].apply(lambda row: ckpt_to_seed_id[row])\n",
    "ps_metrics['mode'] = 'ps'\n",
    "\n",
    "ps_metrics = ps_metrics[['mode', 'corruption', 'level', 'seed_id', 's/test/acc', 's/test/sel_acc']]\n",
    "ps_metrics['s/test/acc'] *= 100"
   ]
  },
  {
   "cell_type": "code",
   "execution_count": null,
   "metadata": {},
   "outputs": [],
   "source": [
    "# fsvi_metrics = pd.read_csv('results/c10c_fsvi_ctx_train.csv')\n",
    "# fsvi_metrics['mode'] = 'fsvi_ctx_train'\n",
    "\n",
    "fsvi_metrics = pd.read_csv('results/c10c_fsvi_ctx_c100.csv')\n",
    "fsvi_metrics['mode'] = 'fsvi'\n",
    "\n",
    "fsvi_metrics = fsvi_metrics.rename(columns={ 'run_id': 'seed_id' })\n",
    "fsvi_metrics = fsvi_metrics[['mode', 'corruption', 'level', 'seed_id', 's/test/acc', 's/test/sel_acc']]"
   ]
  },
  {
   "cell_type": "code",
   "execution_count": null,
   "metadata": {},
   "outputs": [],
   "source": [
    "metrics = pd.concat([fsgc_metrics, ps_metrics, fsvi_metrics], ignore_index=True)"
   ]
  },
  {
   "cell_type": "code",
   "execution_count": null,
   "metadata": {},
   "outputs": [],
   "source": [
    "sns.set(font_scale=1.8, style='whitegrid')\n",
    "\n",
    "corr_list = ['speckle_noise', 'shot_noise', 'pixelate', 'gaussian_blur']\n",
    "plt_metrics = metrics[metrics.corruption.isin(corr_list)]\n",
    "plt_metrics = plt_metrics[plt_metrics['mode'] != 'fsvi']\n",
    "_m = 'sel_acc' # 'sel_acc'\n",
    "\n",
    "g = sns.relplot(data=plt_metrics, kind='line', x='level', y=f's/test/{_m}',\n",
    "                hue='mode', col='corruption', col_wrap=2, errorbar='sd',\n",
    "                marker='o', markersize=10, linewidth=3,\n",
    "                height=3.5, aspect=1.,\n",
    "                palette=sns.color_palette(\"Set2\", 3))\n",
    "\n",
    "g.set_titles(template='{col_name}')\n",
    "g.set(xlabel='Corr. Level', ylabel='Sel. Acc.', xticks=range(1,6))\n",
    "\n",
    "labelmap = { 'ps': 'PS-MAP', 'fsgc': 'FSGC', 'fs': 'FS-MAP', 'lmap': 'L-MAP', 'fsvi': 'FSVI' }\n",
    "\n",
    "handles, labels = g.axes[0].get_legend_handles_labels()\n",
    "labels = [labelmap[l] for l in labels]\n",
    "for h in handles:\n",
    "    h.set(markersize=10, linewidth=3, marker='o')\n",
    "g.axes[-2].legend(handles=handles, labels=labels, fontsize=22, loc='lower left')\n",
    "g.axes[0].legend().remove()\n",
    "g.legend.remove()\n",
    "\n",
    "g.fig.tight_layout()\n",
    "\n",
    "g.fig.show()\n",
    "# g.fig.savefig(f'c10c_{_m}.pdf', bbox_inches='tight')"
   ]
  },
  {
   "cell_type": "code",
   "execution_count": null,
   "metadata": {},
   "outputs": [],
   "source": []
  }
 ],
 "metadata": {
  "kernelspec": {
   "display_name": "fspace",
   "language": "python",
   "name": "python3"
  },
  "language_info": {
   "codemirror_mode": {
    "name": "ipython",
    "version": 3
   },
   "file_extension": ".py",
   "mimetype": "text/x-python",
   "name": "python",
   "nbconvert_exporter": "python",
   "pygments_lexer": "ipython3",
   "version": "3.10.6"
  },
  "orig_nbformat": 4,
  "vscode": {
   "interpreter": {
    "hash": "cf78c7e6f2efe72a4ab2b9c73f062685208ec2c699b65763514c17bcea1347f8"
   }
  }
 },
 "nbformat": 4,
 "nbformat_minor": 2
}
