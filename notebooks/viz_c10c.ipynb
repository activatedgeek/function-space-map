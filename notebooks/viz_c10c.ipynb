{
 "cells": [
  {
   "cell_type": "code",
   "execution_count": null,
   "metadata": {},
   "outputs": [],
   "source": [
    "import pandas as pd\n",
    "import numpy as np\n",
    "import seaborn as sns\n",
    "import matplotlib.pyplot as plt\n",
    "import seaborn.objects as so\n",
    "\n",
    "sns.set(font_scale=1.5, style='whitegrid')"
   ]
  },
  {
   "cell_type": "code",
   "execution_count": null,
   "metadata": {},
   "outputs": [],
   "source": [
    "import wandb\n",
    "from tqdm.auto import tqdm\n",
    "import pandas as pd\n",
    "\n",
    "def get_summary_metrics(sweep_id, filter_func=None):\n",
    "  api = wandb.Api(timeout=60)\n",
    "  sweep = api.sweep(sweep_id)\n",
    "\n",
    "  data = []\n",
    "  for run in tqdm(sweep.runs, desc='Runs', leave=False):\n",
    "    if callable(filter_func) and not filter_func(run):\n",
    "      continue\n",
    "    \n",
    "    run_summary = dict(run_id=run.id, **run.config, **run.summary)\n",
    "\n",
    "    data.append(run_summary)\n",
    "\n",
    "  return sweep, pd.DataFrame(data)"
   ]
  },
  {
   "cell_type": "code",
   "execution_count": null,
   "metadata": {},
   "outputs": [],
   "source": [
    "_, fs_metrics = get_summary_metrics('deeplearn/fspace-inference/6vah02u6')\n",
    "\n",
    "fs_metrics = fs_metrics[['run_id', 'ckpt_path', 'corr_config', 's/test/acc', 's/test/sel_acc', 's/test/ece', 's/test/avg_nll']]\n",
    "fs_metrics['level'] = fs_metrics['corr_config'].apply(lambda row: int(row.split('_')[-1]))\n",
    "fs_metrics['corruption'] = fs_metrics['corr_config'].apply(lambda row: '_'.join(row.split('_')[:-1]))\n",
    "\n",
    "ckpt_to_seed_id = dict(zip(fs_metrics.ckpt_path.unique().tolist(), list(range(fs_metrics.ckpt_path.nunique()))))\n",
    "fs_metrics['seed_id'] = fs_metrics['ckpt_path'].apply(lambda row: ckpt_to_seed_id[row])\n",
    "fs_metrics['mode'] = 'lmap'"
   ]
  },
  {
   "cell_type": "code",
   "execution_count": null,
   "metadata": {},
   "outputs": [],
   "source": [
    "_, fs_metrics = get_summary_metrics('deeplearn/fspace-inference/6vah02u6')\n",
    "\n",
    "fs_metrics = fs_metrics[['run_id', 'ckpt_path', 'corr_config', 's/test/acc', 's/test/sel_acc', 's/test/ece', 's/test/avg_nll']]\n",
    "fs_metrics['level'] = fs_metrics['corr_config'].apply(lambda row: int(row.split('_')[-1]))\n",
    "fs_metrics['corruption'] = fs_metrics['corr_config'].apply(lambda row: '_'.join(row.split('_')[:-1]))\n",
    "\n",
    "ckpt_to_seed_id = dict(zip(fs_metrics.ckpt_path.unique().tolist(), list(range(fs_metrics.ckpt_path.nunique()))))\n",
    "fs_metrics['seed_id'] = fs_metrics['ckpt_path'].apply(lambda row: ckpt_to_seed_id[row])\n",
    "fs_metrics['mode'] = 'lmap'"
   ]
  },
  {
   "cell_type": "code",
   "execution_count": null,
   "metadata": {},
   "outputs": [],
   "source": [
    "_, ps_metrics = get_summary_metrics('deeplearn/fspace-inference/554f3dib')\n",
    "\n",
    "ps_metrics = ps_metrics[['run_id', 'ckpt_path', 'corr_config', 's/test/acc', 's/test/sel_acc', 's/test/ece', 's/test/avg_nll']]\n",
    "ps_metrics['level'] = ps_metrics['corr_config'].apply(lambda row: int(row.split('_')[-1]))\n",
    "ps_metrics['corruption'] = ps_metrics['corr_config'].apply(lambda row: '_'.join(row.split('_')[:-1]))\n",
    "\n",
    "ckpt_to_seed_id = dict(zip(ps_metrics.ckpt_path.unique().tolist(), list(range(ps_metrics.ckpt_path.nunique()))))\n",
    "ps_metrics['seed_id'] = ps_metrics['ckpt_path'].apply(lambda row: ckpt_to_seed_id[row])\n",
    "ps_metrics['mode'] = 'ps'"
   ]
  },
  {
   "cell_type": "code",
   "execution_count": null,
   "metadata": {},
   "outputs": [],
   "source": [
    "metrics = pd.concat([fs_metrics, ps_metrics])\n",
    "\n",
    "# corr_list = ['brightness', 'contrast', 'defocus_blur', 'elastic']\n",
    "# corr_list = ['fog', 'frost', 'frosted_glass_blur', 'gaussian_blur']\n",
    "# corr_list = ['impulse_noise', 'jpeg_compression', 'motion_blur', 'pixelate']\n",
    "# corr_list = ['saturate', 'shot_noise', 'snow', 'spatter']\n",
    "# corr_list = ['speckle_noise', 'zoom_blur', 'brightness', 'gaussian_noise']\n",
    "metrics = metrics[metrics.corruption.isin(corr_list)][['run_id', 'corruption', 'level', 'mode', 's/test/acc', 's/test/sel_acc']]\n",
    "metrics['s/test/sel_acc'] /= 100.\n",
    "\n",
    "\n",
    "# _m = pd.read_csv('results/c10c_fsvi_ctx_train.csv')\n",
    "# _m['mode'] = 'fsvi_ctx_train'\n",
    "# _m['s/test/acc'] /= 100\n",
    "# _m['s/test/sel_acc'] /= 100\n",
    "# metrics = pd.concat([metrics, _m], ignore_index=True)\n",
    "\n",
    "# _m = pd.read_csv('results/c10c_fsvi_ctx_c100.csv')\n",
    "# _m['mode'] = 'fsvi_ctx_c100'\n",
    "# _m['s/test/acc'] /= 100\n",
    "# _m['s/test/sel_acc'] /= 100\n",
    "# metrics = pd.concat([metrics, _m], ignore_index=True)\n",
    "\n",
    "metrics"
   ]
  },
  {
   "cell_type": "code",
   "execution_count": null,
   "metadata": {},
   "outputs": [],
   "source": [
    "g = sns.relplot(data=metrics, kind='line', x='level', y='s/test/acc',\n",
    "                hue='mode', col='corruption', col_wrap=2, errorbar='sd',\n",
    "                marker='o', markersize=10, linewidth=3,\n",
    "                height=3.5, aspect=1,\n",
    "                palette=sns.color_palette(\"Set2\", 4))\n",
    "\n",
    "g.set_titles(template='{col_name}')\n",
    "g.set(xlabel='Corruption Level', ylabel='Accuracy', xticks=range(1,6))\n",
    "\n",
    "labelmap = { 'ps': 'PS-MAP', 'fsgc': 'FSGC', 'fs': 'FS-MAP', 'lmap': 'L-MAP' }\n",
    "\n",
    "handles, labels = g.axes[0].get_legend_handles_labels()\n",
    "labels = [labelmap[l] for l in labels]\n",
    "for h in handles:\n",
    "    h.set(markersize=10, linewidth=3)\n",
    "g.axes[2].legend(handles=handles, labels=labels, fontsize=12)\n",
    "g.axes[0].legend().remove()\n",
    "g.legend.remove()\n",
    "\n",
    "g.fig.show()\n",
    "# g.fig.savefig('c10c_acc.pdf', bbox_inches='tight')"
   ]
  },
  {
   "cell_type": "code",
   "execution_count": null,
   "metadata": {},
   "outputs": [],
   "source": [
    "g = sns.relplot(data=metrics[metrics.corruption.isin(corr_list)], kind='line', x='level', y='s/test/sel_acc',\n",
    "                hue='mode', col='corruption', col_wrap=2, errorbar='sd',\n",
    "                marker='o', markersize=10, linewidth=3,\n",
    "                height=3.5, aspect=1,\n",
    "                palette=sns.color_palette(\"Set2\", 4))\n",
    "\n",
    "g.set_titles(template='{col_name}')\n",
    "g.set(xlabel='Corruption Level', ylabel='Sel. Accuracy', xticks=range(1,6))\n",
    "\n",
    "handles, labels = g.axes[0].get_legend_handles_labels()\n",
    "labels = [r'FSGC', r'PS-MAP', r'FSVI', r'FSVI (CIFAR-100)']\n",
    "for h in handles:\n",
    "    h.set(markersize=10, linewidth=3)\n",
    "g.axes[2].legend(handles=handles, labels=labels, fontsize=12)\n",
    "g.axes[0].legend().remove()\n",
    "g.legend.remove()\n",
    "\n",
    "g.fig.show()\n",
    "# g.fig.savefig('c10c_sel_acc.pdf', bbox_inches='tight')"
   ]
  }
 ],
 "metadata": {
  "kernelspec": {
   "display_name": "fspace",
   "language": "python",
   "name": "python3"
  },
  "language_info": {
   "codemirror_mode": {
    "name": "ipython",
    "version": 3
   },
   "file_extension": ".py",
   "mimetype": "text/x-python",
   "name": "python",
   "nbconvert_exporter": "python",
   "pygments_lexer": "ipython3",
   "version": "3.10.6"
  },
  "orig_nbformat": 4,
  "vscode": {
   "interpreter": {
    "hash": "cf78c7e6f2efe72a4ab2b9c73f062685208ec2c699b65763514c17bcea1347f8"
   }
  }
 },
 "nbformat": 4,
 "nbformat_minor": 2
}
